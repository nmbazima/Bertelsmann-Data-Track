Methodology Map Assessment
Now that we’ve gone through several scenarios, let’s get some more practice determining the right methodology for a variety of business problems. 
For each of the following descriptions, select the correct methodology. 
Use the methodology map as a guide to help make the decision.

QUESTION 1 OF 12
A large bank is contemplating changing operating hours at all of its bank branches. They want to use a data-driven way to estimate the impact of 
changing the operating hours before rolling out the change to all its branches.

Answer: A/B Testing - Since the bank doesn't have any data on how bank branches perform with different operating hours, 
it would have to run an A/B test to estimate the impact of rolling out the change.

QUESTION 2 OF 12
A high-end home goods manufacture wants to determine which customers 
in their mailing list are most likely to make a purchase if a catalog was sent to them.

Answer: outcome to predict is whether or not a customer will make a purchase, which is binary. 
Therefore you would use a binary classification model.

QUESTION 3 OF 12
That same high-end home goods manufacture now wants to determine how much revenue they can 
expect if they send a catalog to their entire mailing list.

Answer: The outcome to predict is the amount of revenue, which is continuous, numeric variable.

QUESTION 4 OF 12
A pet store chain has 13 stores and would like to expand and open a 14th store. In order to determine the best location, 
the company wants to predict the sales it could expect from each potential location.

Answer: The outcome to predict is the amount of sales the company can expect, which is continuous, numeric variable.

QUESTION 5 OF 12
A small bank suddenly has an influx of new people applying for loans. It wants to determine which loan applicants are creditworthy by 
predicting whether or not each applicant is likely to default on their loan.

Answer: The outcome to predict is whether or not a customer will default on a loan, which is binary. 
Therefore you would use a binary classification model.

QUESTION 6 OF 12
An upscale coffee chain wants to know whether a television campaign about their recent introduction of gourmet-sandwiches 
will provide a good return on investment.

Answer: Since the coffee chain doesn't have data on the impact of TV ads on its new product line, 
it would have to run an A/B test to estimate the impact of the TV campaign.

QUESTION 7 OF 12
A restaurant chain wants to see how much revenue each of its locations produced last year.

Answer: Since the restaurant is simply evaluating what happened in the past, no prediction needs to be made.

QUESTION 8 OF 12
A company that creates and sells video games wants to forecast monthly sales data in order to synchronize supply with demand, 
aid in decision making that will help build a competitive infrastructure and measure company performance.

Answer: Since the company is forecasting several periods into the future, this problem requires is a time series model.

QUESTION 9 OF 12
A friend of yours is looking to find a good deal on a diamond for his soon to be fiancé. He has a large dataset of diamonds 
and wants to predict what the price of each diamond should be based on its physical attributes.

Answer: Price, a continuous numeric variable, is the variable that needs to be predicted.

QUESTION 10 OF 12
A university is concerned about dropouts. They want to be able to predict whether a 
student is likely to drop out so they can provide helpful interventions to help them succeed.

Answer: The outcome to predict is whether or not a student will drop out, which is binary model. 
Therefore, this problem requires a binary classification model.

QUESTION 11 OF 12
A large grocery chain wants to understand whether a change from a link to an image on its 
website will lead to more mobile app downloads.

Answer: The grocery chain does not have data on the impact of an image on mobile app downloads, 
so it would have to run an A/B test.

QUESTION 12 OF 12
A mountain resort wants to predict the number of monthly room bookings it will have next year to help decide whether it should expand.

Answer: Since the resort is forecasting many periods into the future, this problem requires a time series model.

These problems were taken directly from later courses in the Predictive Analytics for Business Nanodegree Program!