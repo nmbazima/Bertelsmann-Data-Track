{
    "metadata": {
        "kernelspec": {
            "name": "SQL",
            "display_name": "SQL",
            "language": "sql"
        },
        "language_info": {
            "name": "sql",
            "version": ""
        },
        "orig_nbformat": 2
    },
    "nbformat_minor": 2,
    "nbformat": 4,
    "cells": [
        {
            "cell_type": "markdown",
            "source": [
                "**Introduction**\n",
                "Working with a Business Problem and the steps\n",
                "\\- Problem definition to presenting results\n",
                "    Select the right model or methodology"
            ],
            "metadata": {
                "azdata_cell_guid": "c8a79160-816a-47b2-be77-74fc6c253a52"
            }
        }
    ]
}